{
  "nbformat": 4,
  "nbformat_minor": 0,
  "metadata": {
    "colab": {
      "name": "Tecoco_Clase 06_01_Analizador Sintáctico.ipynb",
      "provenance": [],
      "authorship_tag": "ABX9TyPLVHlhIVqdlOHhswTC3FBm",
      "include_colab_link": true
    },
    "kernelspec": {
      "name": "python3",
      "display_name": "Python 3"
    }
  },
  "cells": [
    {
      "cell_type": "markdown",
      "metadata": {
        "id": "view-in-github",
        "colab_type": "text"
      },
      "source": [
        "<a href=\"https://colab.research.google.com/github/fernanvilla/UNALTECOCO-2020-01/blob/master/Tecoco_Clase_06_01_Analizador_Sint%C3%A1ctico.ipynb\" target=\"_parent\"><img src=\"https://colab.research.google.com/assets/colab-badge.svg\" alt=\"Open In Colab\"/></a>"
      ]
    },
    {
      "cell_type": "markdown",
      "metadata": {
        "id": "jluE2O1TnzOK",
        "colab_type": "text"
      },
      "source": [
        "# Token Tipo Literal"
      ]
    },
    {
      "cell_type": "code",
      "metadata": {
        "id": "okymlUVIndk7",
        "colab_type": "code",
        "colab": {}
      },
      "source": [
        "import re\n",
        "\n",
        "class Literal_Token:\n",
        "    def __init__(self, value):\n",
        "        self.value = value\n",
        "    def getParte(self):\n",
        "        return self.value"
      ],
      "execution_count": 2,
      "outputs": []
    },
    {
      "cell_type": "markdown",
      "metadata": {
        "id": "tIOT5PODn5LO",
        "colab_type": "text"
      },
      "source": [
        "# Token tipo operador\n",
        "\n",
        "* \"getParte\": Tradicionalmente se denota como nud o nudge (empujar), para obtener un elemento literal o para representar la notación prefija, por ejemplo -4. \n",
        "\n",
        "* Mientras que \"getOperacion\", para la denotación infija , \n",
        "cuando el token de operador aparece dentro de la frase.\n",
        "\n",
        "* El valor de \"peso\" permite controlar la precedencia del operador; \n",
        "cuanto mayor sea el valor, más precedencia tendrá el operador"
      ]
    },
    {
      "cell_type": "code",
      "metadata": {
        "id": "L6v2u3XnntFY",
        "colab_type": "code",
        "colab": {}
      },
      "source": [
        "class Operador_Suma_Token:\n",
        "    peso = 10\n",
        "    def getParte(self):\n",
        "        return expresion(100)\n",
        "    def getOperacion(self, parte):\n",
        "        return parte + expresion(10)\n",
        "\n",
        "class Operador_Resta_Token:\n",
        "    peso = 10\n",
        "    def getParte(self):\n",
        "        return -expresion(100)\n",
        "    def getOperacion(self, parte):\n",
        "        return parte - expresion(10)\n",
        "\n",
        "class Operador_Multiplicacion_Token:\n",
        "    peso = 20\n",
        "    def getOperacion(self, parte):\n",
        "        return parte * expresion(20)\n",
        "\n",
        "class operador_Division_Token:\n",
        "    peso = 20\n",
        "    def getOperacion(self, parte):\n",
        "        return parte / expresion(20)\n",
        "\n",
        "class Operador_Potencia_Token:\n",
        "    peso = 30\n",
        "    def getOperacion(self, parte):\n",
        "        return parte ** expresion(30-1)\n",
        "\n",
        "class Fin_Token:\n",
        "    peso = 0"
      ],
      "execution_count": 3,
      "outputs": []
    },
    {
      "cell_type": "markdown",
      "metadata": {
        "id": "INmJqG13pJA1",
        "colab_type": "text"
      },
      "source": [
        "# Separar por tokens \n",
        "\n",
        "La expresión regular ayuda a separar los operadores. ¿Puedes interpretar lo que hace la expresión regular?"
      ]
    },
    {
      "cell_type": "code",
      "metadata": {
        "id": "kEAwEVdCo5hO",
        "colab_type": "code",
        "colab": {}
      },
      "source": [
        "def tokenize(programa):\n",
        "    # Separa los componentes si la expresion es 3 + 4, \n",
        "    # Se descompone en [('3', ''), ('', '+'), ('4', '')]\n",
        "    for numero, operador in re.findall(\"\\s*(?:(\\d+\\.?\\d*)|(\\*\\*|.))\", programa):\n",
        "        if numero:\n",
        "            if '.' not in numero:\n",
        "                yield Literal_Token(int(numero))\n",
        "            else:\n",
        "                yield Literal_Token(float(numero))\n",
        "        elif operador == \"+\":\n",
        "            yield Operador_Suma_Token()\n",
        "        elif operador == \"-\":\n",
        "            yield Operador_Resta_Token()\n",
        "        elif operador == \"*\":\n",
        "            yield Operador_Multiplicacion_Token()\n",
        "        elif operador == \"/\":\n",
        "            yield operador_Division_Token()\n",
        "        elif operador == \"**\":\n",
        "            yield Operador_Potencia_Token()\n",
        "        else:\n",
        "            raise SyntaxError(\"Error en '{0}' Operador Desconocido!!!: '{1}'\".format(programa, operador))\n",
        "    yield Fin_Token()"
      ],
      "execution_count": 4,
      "outputs": []
    },
    {
      "cell_type": "markdown",
      "metadata": {
        "id": "CM1zhQ3bqEOn",
        "colab_type": "text"
      },
      "source": [
        "# El Analizador\n",
        "\n",
        "El analizador debe verificar (sgt_peso < token.peso) tiene menos peso con el fin de resolver la expresión y continuar con el siguiente token"
      ]
    },
    {
      "cell_type": "code",
      "metadata": {
        "id": "Fh3aWhimqEbF",
        "colab_type": "code",
        "colab": {}
      },
      "source": [
        "def expresion(sgt_peso=0):\n",
        "    try:   \n",
        "        global token\n",
        "        t = token\n",
        "        token = next()\n",
        "        parte = t.getParte()\n",
        "        while sgt_peso < token.peso:\n",
        "            t = token\n",
        "            token = next()\n",
        "            parte = t.getOperacion(parte)\n",
        "        return parte\n",
        "    except AttributeError as err:\n",
        "        raise SyntaxError('Ha ocurrido un error Sintaxis no Válida, atributo desconocido')\n"
      ],
      "execution_count": 5,
      "outputs": []
    },
    {
      "cell_type": "code",
      "metadata": {
        "id": "GKNW31raqq6l",
        "colab_type": "code",
        "colab": {}
      },
      "source": [
        "def parse(programa):\n",
        "    global token, next\n",
        "    next = tokenize(programa).__next__\n",
        "    token = next()\n",
        "    print (programa, \" es \", expresion())"
      ],
      "execution_count": null,
      "outputs": []
    },
    {
      "cell_type": "code",
      "metadata": {
        "id": "zFBF20zVqUpi",
        "colab_type": "code",
        "colab": {
          "base_uri": "https://localhost:8080/",
          "height": 203
        },
        "outputId": "c1d717bd-25de-40ca-b40b-f20383dad560"
      },
      "source": [
        "if __name__ == '__main__':\n",
        "  try: \n",
        "    parse('-10**-2')\n",
        "    parse(\"3.1**4\")\n",
        "    parse(\"+1\")        \n",
        "    parse(\"1\")\n",
        "    parse(\"+1\")\n",
        "    parse(\"-1\")\n",
        "    #Prueba error de Operador Desconocido una vez lanzada la excepcion \n",
        "    #se suspende evidentemente la ejecución de las demás lineas        \n",
        "    #parse(\"1#2\")\n",
        "    #parse(\"2^2^3\")\n",
        "    parse(\"1+2+3\")\n",
        "    parse(\"1+2*3\")\n",
        "    parse(\"1*2/3\")\n",
        "    #Error de Sintaxis no válida\n",
        "    #parse(\"*1\") \n",
        "    parse(\"22--1\")        \n",
        "  except SyntaxError as err:\n",
        "      print(err)"
      ],
      "execution_count": 7,
      "outputs": [
        {
          "output_type": "stream",
          "text": [
            "-10**-2  es  0.01\n",
            "3.1**4  es  92.35210000000001\n",
            "+1  es  1\n",
            "1  es  1\n",
            "+1  es  1\n",
            "-1  es  -1\n",
            "1+2+3  es  6\n",
            "1+2*3  es  7\n",
            "1*2/3  es  0.6666666666666666\n",
            "22--1  es  23\n"
          ],
          "name": "stdout"
        }
      ]
    }
  ]
}